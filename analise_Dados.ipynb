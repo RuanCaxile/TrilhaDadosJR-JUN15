{
 "cells": [
  {
   "cell_type": "markdown",
   "metadata": {},
   "source": [
    "# 📶 Trilha de Cientista de Dados Jr. - Codigo Certo Coders\n",
    "\n",
    "Este código foi desenvolvido para realizar a Trilha de Avaliação para a escolha dos Cientistas de Dados Jr. Voluntários\n",
    "do Projeto Codigo Certo Coders. Vale ressaltar que o código abaixo foi escrito em sua totalidade apenas por mim, Ruan Carlos\n",
    "Pontes Caxilé, utilizando como bases para nortear o desenvolvimento do mesmo, materiais de estudo da Cod3r, a Formação em Python \n",
    "da DIO, além de códigos pessoais e consultas realizadas ao ChatGPT e ao Gemini. "
   ]
  },
  {
   "cell_type": "code",
   "execution_count": 17,
   "metadata": {},
   "outputs": [],
   "source": [
    "\"\"\"\n",
    "Esta célula contém apenas as\n",
    "importações das bibliotecas que\n",
    "em algum momento utilizaremos ao\n",
    "longo deste código fonte e da Trilha.\n",
    "\"\"\"\n",
    "import pandas as pd # Importando a biblioteca pandas\n",
    "import matplotlib as plt # Importando a biblioteca matplotlib\n",
    "import seaborn as sns\n",
    "import os # Importando biblioteca os, para conseguir mexer com pastas e caminhos para arquivos\n",
    "from io import StringIO # Importando apenas o StringIO para converter texto em CSV."
   ]
  },
  {
   "cell_type": "markdown",
   "metadata": {},
   "source": [
    "### 🔋 Carregamento de Dados\n",
    "\n",
    "De acordo com o que foi pedido nos Requisitos Funcionais, vamos começar com o Carregamento de Dados implementando uma funcionalidade para carregar o conjunto de dados, converter esse Data Set para CSV e por fim salvar na pasta carregamento_de_dados."
   ]
  },
  {
   "cell_type": "code",
   "execution_count": 3,
   "metadata": {},
   "outputs": [],
   "source": [
    "\"\"\"\n",
    "Esta célula contém apenas a variável\n",
    "string_texto_dados_trilha que contém\n",
    "o texto da Trilha com o conjunto de dados \n",
    "\"\"\"\n",
    "\n",
    "string_texto_dados_trilha = \"\"\"ID,Nome do Curso,Quantidade de Vendas,Preço Unitário,Data\n",
    "                                1,Introdução à Programação em Python,50,39.90,2023-01-01\n",
    "                                2,Desenvolvimento Web com HTML e CSS,30,59.90,2023-01-02\n",
    "                                3,JavaScript Avançado: Frameworks e Bibliotecas,20,79.90,2023-01-03\n",
    "                                4,Introdução ao Machine Learning,15,99.90,2023-01-04\n",
    "                                5,Desenvolvimento Mobile com React Native,25,69.90,2023-01-05\n",
    "                                6,Arquitetura de Microserviços,12,89.90,2023-01-06\n",
    "                                7,Banco de Dados SQL e NoSQL,18,79.90,2023-01-07\n",
    "                                8,Segurança da Informação: Fundamentos,10,109.90,2023-01-08\n",
    "                                9,Cloud Computing com AWS,22,99.90,2023-01-09\n",
    "                                10,DevOps: Integração e Entrega Contínua,8,119.90,2023-01-10\n",
    "                                11,Desenvolvimento Web com HTML e CSS,20,59.90,2023-01-11\n",
    "                                12,JavaScript Avançado: Frameworks e Bibliotecas,15,79.90,2023-01-12\n",
    "                                13,Introdução ao Machine Learning,10,99.90,2023-01-13\n",
    "                                14,Desenvolvimento Mobile com React Native,18,69.90,2023-01-14\n",
    "                                15,Arquitetura de Microserviços,8,89.90,2023-01-15\n",
    "                                16,Banco de Dados SQL e NoSQL,12,79.90,2023-01-16\n",
    "                                17,Segurança da Informação: Fundamentos,5,109.90,2023-01-17\n",
    "                                18,Cloud Computing com AWS,15,99.90,2023-01-18\n",
    "                                19,DevOps: Integração e Entrega Contínua,6,119.90,2023-01-19\n",
    "                                20,Introdução à Programação em Python,45,39.90,2023-01-20\n",
    "                                21,Desenvolvimento Web com HTML e CSS,25,59.90,2023-01-21\n",
    "                                22,JavaScript Avançado: Frameworks e Bibliotecas,18,79.90,2023-01-22\n",
    "                                23,Introdução ao Machine Learning,12,99.90,2023-01-23\n",
    "                                24,Desenvolvimento Mobile com React Native,20,69.90,2023-01-24\n",
    "                                25,Arquitetura de Microserviços,10,89.90,2023-01-25\"\"\""
   ]
  },
  {
   "cell_type": "code",
   "execution_count": 4,
   "metadata": {},
   "outputs": [
    {
     "name": "stdout",
     "output_type": "stream",
     "text": [
      "Arquivo CSV criado com sucesso em carregamento_de_dados\\vendas_cursos_tech.csv.\n"
     ]
    }
   ],
   "source": [
    "\"\"\"\n",
    "Esta célula contém apenas\n",
    "o processamento com a variável\n",
    "string_texto_dados_trilha para transformar\n",
    "em um arquivo CSV a partir do StringIO() e \n",
    "de um Data Frame, por fim convertendo o Data Frame\n",
    "para um arquivo CSV e salvando-o na pasta carregamento_de_dados\n",
    "\"\"\"\n",
    "\n",
    "# Usando StringIO para converter a string em um objeto similar a arquivo\n",
    "texto_dados_trilha_para_csv = StringIO(string_texto_dados_trilha)\n",
    "\n",
    "# Lendo a string em um DataFrame\n",
    "data_frame = pd.read_csv(texto_dados_trilha_para_csv)\n",
    "\n",
    "# Definindo o caminho da pasta onde o arquivo CSV será salvo\n",
    "pasta_destino = 'carregamento_de_dados'\n",
    "\n",
    "# Certifique-se de que a pasta existe, caso contrário, crie-a\n",
    "os.makedirs(pasta_destino, exist_ok=True)\n",
    "\n",
    "# Definindo o caminho completo do arquivo CSV\n",
    "caminho_pasta = os.path.join(pasta_destino, 'vendas_cursos_tech.csv')\n",
    "\n",
    "# Salvando o DataFrame em um arquivo CSV na pasta especificada\n",
    "data_frame.to_csv(caminho_pasta, index=False)\n",
    "\n",
    "print(f\"Arquivo CSV criado com sucesso em {caminho_pasta}.\")"
   ]
  },
  {
   "cell_type": "markdown",
   "metadata": {},
   "source": [
    "### 🔍 Exploração de Dados\n",
    "\n",
    "Após, transformar o texto contendo o conjunto de dados em um arquivo CSV e tendo já um Data Frame salvo na variável data_frame, agora pode ser realizado a Etapa de Exploração de Dados, na qual irei exibir as primeiras linhas e informações básicas do conjunto de dados, como número de linhas, colunas e tipos de dados presentes."
   ]
  },
  {
   "cell_type": "code",
   "execution_count": 5,
   "metadata": {},
   "outputs": [
    {
     "data": {
      "text/html": [
       "<div>\n",
       "<style scoped>\n",
       "    .dataframe tbody tr th:only-of-type {\n",
       "        vertical-align: middle;\n",
       "    }\n",
       "\n",
       "    .dataframe tbody tr th {\n",
       "        vertical-align: top;\n",
       "    }\n",
       "\n",
       "    .dataframe thead th {\n",
       "        text-align: right;\n",
       "    }\n",
       "</style>\n",
       "<table border=\"1\" class=\"dataframe\">\n",
       "  <thead>\n",
       "    <tr style=\"text-align: right;\">\n",
       "      <th></th>\n",
       "      <th>ID</th>\n",
       "      <th>Nome do Curso</th>\n",
       "      <th>Quantidade de Vendas</th>\n",
       "      <th>Preço Unitário</th>\n",
       "      <th>Data</th>\n",
       "    </tr>\n",
       "  </thead>\n",
       "  <tbody>\n",
       "    <tr>\n",
       "      <th>0</th>\n",
       "      <td>1</td>\n",
       "      <td>Introdução à Programação em Python</td>\n",
       "      <td>50</td>\n",
       "      <td>39.9</td>\n",
       "      <td>2023-01-01</td>\n",
       "    </tr>\n",
       "    <tr>\n",
       "      <th>1</th>\n",
       "      <td>2</td>\n",
       "      <td>Desenvolvimento Web com HTML e CSS</td>\n",
       "      <td>30</td>\n",
       "      <td>59.9</td>\n",
       "      <td>2023-01-02</td>\n",
       "    </tr>\n",
       "    <tr>\n",
       "      <th>2</th>\n",
       "      <td>3</td>\n",
       "      <td>JavaScript Avançado: Frameworks e Bibliotecas</td>\n",
       "      <td>20</td>\n",
       "      <td>79.9</td>\n",
       "      <td>2023-01-03</td>\n",
       "    </tr>\n",
       "    <tr>\n",
       "      <th>3</th>\n",
       "      <td>4</td>\n",
       "      <td>Introdução ao Machine Learning</td>\n",
       "      <td>15</td>\n",
       "      <td>99.9</td>\n",
       "      <td>2023-01-04</td>\n",
       "    </tr>\n",
       "    <tr>\n",
       "      <th>4</th>\n",
       "      <td>5</td>\n",
       "      <td>Desenvolvimento Mobile com React Native</td>\n",
       "      <td>25</td>\n",
       "      <td>69.9</td>\n",
       "      <td>2023-01-05</td>\n",
       "    </tr>\n",
       "  </tbody>\n",
       "</table>\n",
       "</div>"
      ],
      "text/plain": [
       "   ID                                  Nome do Curso  Quantidade de Vendas  \\\n",
       "0   1             Introdução à Programação em Python                    50   \n",
       "1   2             Desenvolvimento Web com HTML e CSS                    30   \n",
       "2   3  JavaScript Avançado: Frameworks e Bibliotecas                    20   \n",
       "3   4                 Introdução ao Machine Learning                    15   \n",
       "4   5        Desenvolvimento Mobile com React Native                    25   \n",
       "\n",
       "   Preço Unitário        Data  \n",
       "0            39.9  2023-01-01  \n",
       "1            59.9  2023-01-02  \n",
       "2            79.9  2023-01-03  \n",
       "3            99.9  2023-01-04  \n",
       "4            69.9  2023-01-05  "
      ]
     },
     "execution_count": 5,
     "metadata": {},
     "output_type": "execute_result"
    }
   ],
   "source": [
    "\"\"\"\n",
    "Esta célula irá mostrar\n",
    "as primeiras linhas do \n",
    "Data Frame.\n",
    "\"\"\"\n",
    "# Criando a variável para pegar as 5 primeiras linhas do Data Frame\n",
    "primeiras_linhas = data_frame.head()\n",
    "\n",
    "# Exibindo as primeiras linhas, chamando a variável primeiras_linhas\n",
    "primeiras_linhas"
   ]
  },
  {
   "cell_type": "code",
   "execution_count": 6,
   "metadata": {},
   "outputs": [
    {
     "name": "stdout",
     "output_type": "stream",
     "text": [
      "O Data Frame tem 25 Linhas e 5 Colunas\n"
     ]
    }
   ],
   "source": [
    "\"\"\"\n",
    "Esta célula irá mostrar o número de linhas\n",
    "e o número de colunas.\n",
    "\"\"\"\n",
    "\n",
    "# Estas variáveis guardam a quantidade de linhas e a quantidade colunas, a partir do atributo shape de um Data Frame, que é uma tupla.\n",
    "numero_de_linhas, numero_de_colunas = data_frame.shape\n",
    "\n",
    "print(f\"O Data Frame tem {numero_de_linhas} Linhas e {numero_de_colunas} Colunas\")"
   ]
  },
  {
   "cell_type": "code",
   "execution_count": 8,
   "metadata": {},
   "outputs": [
    {
     "name": "stdout",
     "output_type": "stream",
     "text": [
      "Os tipos de dados presentes em cada coluna podem ser observados abaixo:\n",
      " ID                        int64\n",
      "Nome do Curso            object\n",
      "Quantidade de Vendas      int64\n",
      "Preço Unitário          float64\n",
      "Data                     object\n",
      "dtype: object\n"
     ]
    }
   ],
   "source": [
    "\"\"\"\n",
    "Esta célula irá mostrar os tipos de dados\n",
    "guardados em cada coluna.\n",
    "\"\"\"\n",
    "\n",
    "# Esta variável guarda um conjunto de colunas com seus respectivos tipos de dados\n",
    "tipos_de_dados = data_frame.dtypes\n",
    "\n",
    "\n",
    "print(\"Os tipos de dados presentes em cada coluna podem ser observados abaixo:\\n\", tipos_de_dados)"
   ]
  },
  {
   "cell_type": "markdown",
   "metadata": {},
   "source": [
    "### 📊 Estatísticas Descritivas\n",
    "\n",
    "Após a Exploração de Dados, vamos agora calcular e exibir algumas das medidas Estatísticas Descritivas mais comuns, tais como Média, Mediana, Mínimo, Máximo e Desvio Padrão, para cada uma das colunas que possuem valores numéricos e que fazem sentido calcular tais medidas. No caso, seria a coluna de Quantidade de Vendas e a coluna de Preço Unitário."
   ]
  },
  {
   "cell_type": "code",
   "execution_count": 13,
   "metadata": {},
   "outputs": [
    {
     "name": "stdout",
     "output_type": "stream",
     "text": [
      "Média da Coluna Quantidade de Vendas: 17.96\n",
      "\n",
      "Mediana da Coluna Quantidade de Vendas: 15.00\n",
      "\n",
      "Quantidade Mínima de Vendas: 5.00\n",
      "\n",
      "Quantidade Máxima de Vendas: 50.00\n",
      "\n",
      "Desvio Padrão da Quantidade de Vendas: 10.92\n"
     ]
    }
   ],
   "source": [
    "\"\"\"\n",
    "Esta célula contém todas as \n",
    "Medidas Estatísticas da Coluna \n",
    "Quantidade de Vendas\n",
    "\"\"\"\n",
    "\n",
    "# Variável que guarda a média da quantidade de vendas\n",
    "media_de_quantidade_de_vendas = data_frame['Quantidade de Vendas'].mean()\n",
    "\n",
    "#Variável que guarda a mediana da quantidade de vendas\n",
    "mediana_da_quantidade_de_vendas = data_frame['Quantidade de Vendas'].median()\n",
    "\n",
    "#Variável que guarda a quantidade mínima de vendas que um curso teve\n",
    "minimo_quantidade_de_vendas = data_frame['Quantidade de Vendas'].min()\n",
    "\n",
    "#Variável que guarda a quantidade máxima de vendas que um curso teve\n",
    "maximo_quantidade_de_vendas = data_frame['Quantidade de Vendas'].max()\n",
    "\n",
    "#Variável que guarda o desvio padrão da quantidade de vendas\n",
    "desvio_padrao_quantidade_de_vendas = data_frame['Quantidade de Vendas'].std()\n",
    "\n",
    "print(f\"\"\"Média da Coluna Quantidade de Vendas: {media_de_quantidade_de_vendas:.2f}\\n\n",
    "Mediana da Coluna Quantidade de Vendas: {mediana_da_quantidade_de_vendas:.2f}\\n\n",
    "Quantidade Mínima de Vendas: {minimo_quantidade_de_vendas:.2f}\\n\n",
    "Quantidade Máxima de Vendas: {maximo_quantidade_de_vendas:.2f}\\n\n",
    "Desvio Padrão da Quantidade de Vendas: {desvio_padrao_quantidade_de_vendas:.2f}\"\"\")"
   ]
  },
  {
   "cell_type": "code",
   "execution_count": 14,
   "metadata": {},
   "outputs": [
    {
     "name": "stdout",
     "output_type": "stream",
     "text": [
      "Média da Coluna Preço Unitário: 83.90\n",
      "\n",
      "Mediana da Coluna Preço Unitário: 79.90\n",
      "\n",
      "Preço Mínimo de Venda: 39.90\n",
      "\n",
      "Preço Máximo de Venda: 119.90\n",
      "\n",
      "Desvio Padrão do Preço Unitário: 21.98\n"
     ]
    }
   ],
   "source": [
    "\"\"\"\n",
    "Esta célula contém todas as \n",
    "Medidas Estatísticas da Coluna \n",
    "Preço Unitário\n",
    "\"\"\"\n",
    "\n",
    "# Variável que guarda a média do Preço Unitário\n",
    "media_de_preco_unitario = data_frame['Preço Unitário'].mean()\n",
    "\n",
    "#Variável que guarda a mediana do Preço Unitário\n",
    "mediana_da_preco_unitario = data_frame['Preço Unitário'].median()\n",
    "\n",
    "#Variável que guarda o preço mínimo de venda que um curso teve\n",
    "minimo_preco_unitario = data_frame['Preço Unitário'].min()\n",
    "\n",
    "#Variável que guarda o prçeo máximo de vendaa que um curso teve\n",
    "maximo_preco_unitario = data_frame['Preço Unitário'].max()\n",
    "\n",
    "#Variável que guarda o desvio padrão do Preço Unitário\n",
    "desvio_padrao_preco_unitario = data_frame['Preço Unitário'].std()\n",
    "\n",
    "print(f\"\"\"Média da Coluna Preço Unitário: {media_de_preco_unitario:.2f}\\n\n",
    "Mediana da Coluna Preço Unitário: {mediana_da_preco_unitario:.2f}\\n\n",
    "Preço Mínimo de Venda: {minimo_preco_unitario:.2f}\\n\n",
    "Preço Máximo de Venda: {maximo_preco_unitario:.2f}\\n\n",
    "Desvio Padrão do Preço Unitário: {desvio_padrao_preco_unitario:.2f}\"\"\")"
   ]
  },
  {
   "cell_type": "markdown",
   "metadata": {},
   "source": [
    "### 📉Visualização de Dados \n",
    "\n",
    "Por fim, a partir do conjunto de dados pode-se gerar Gráficos que trazem Insights apenas de forma visual."
   ]
  },
  {
   "cell_type": "code",
   "execution_count": null,
   "metadata": {},
   "outputs": [],
   "source": []
  }
 ],
 "metadata": {
  "kernelspec": {
   "display_name": "Python 3",
   "language": "python",
   "name": "python3"
  },
  "language_info": {
   "codemirror_mode": {
    "name": "ipython",
    "version": 3
   },
   "file_extension": ".py",
   "mimetype": "text/x-python",
   "name": "python",
   "nbconvert_exporter": "python",
   "pygments_lexer": "ipython3",
   "version": "3.12.0"
  }
 },
 "nbformat": 4,
 "nbformat_minor": 2
}

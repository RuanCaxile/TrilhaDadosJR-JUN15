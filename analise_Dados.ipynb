{
 "cells": [
  {
   "cell_type": "markdown",
   "metadata": {},
   "source": [
    "# 📶 Trilha de Cientista de Dados Jr. - Codigo Certo Coders\n",
    "\n",
    "Este código foi desenvolvido para realizar a Trilha de Avaliação para a escolha dos Cientistas de Dados Jr. Voluntários\n",
    "do Projeto Codigo Certo Coders. Vale ressaltar que o código abaixo foi escrito em sua totalidade apenas por mim, Ruan Carlos\n",
    "Pontes Caxilé, utilizando como bases para nortear o desenvolvimento do mesmo, materiais de estudo da Cod3r, a Formação em Python \n",
    "da DIO, além de códigos pessoais e consultas realizadas ao ChatGPT e ao Gemini. "
   ]
  },
  {
   "cell_type": "code",
   "execution_count": 1,
   "metadata": {},
   "outputs": [],
   "source": [
    "\"\"\"\n",
    "Esta célula contém apenas as\n",
    "importações das bibliotecas que\n",
    "em algum momento utilizaremos ao\n",
    "longo deste código fonte e da Trilha.\n",
    "\"\"\"\n",
    "import pandas as pd # Importando a biblioteca pandas\n",
    "import matplotlib as plt # Importando a biblioteca matplotlib\n",
    "import os # Importando biblioteca os, para conseguir mexer com pastas e caminhos para arquivos\n",
    "from io import StringIO # Importando apenas o StringIO para converter texto em CSV."
   ]
  },
  {
   "cell_type": "markdown",
   "metadata": {},
   "source": [
    "### 🔋 Carregamento de Dados\n",
    "\n",
    "De acordo com o que foi pedido nos Requisitos Funcionais, vamos implementar uma funcionalidade para carregar o conjunto de dados colocado na Trilha e converter para CSV."
   ]
  },
  {
   "cell_type": "code",
   "execution_count": 3,
   "metadata": {},
   "outputs": [],
   "source": [
    "\"\"\"\n",
    "Esta célula contém apenas a variável\n",
    "string_texto_dados_trilha que contém\n",
    "o texto da Trilha com o conjunto de dados \n",
    "\"\"\"\n",
    "\n",
    "string_texto_dados_trilha = \"\"\"ID,Nome do Curso,Quantidade de Vendas,Preço Unitário,Data\n",
    "                                1,Introdução à Programação em Python,50,39.90,2023-01-01\n",
    "                                2,Desenvolvimento Web com HTML e CSS,30,59.90,2023-01-02\n",
    "                                3,JavaScript Avançado: Frameworks e Bibliotecas,20,79.90,2023-01-03\n",
    "                                4,Introdução ao Machine Learning,15,99.90,2023-01-04\n",
    "                                5,Desenvolvimento Mobile com React Native,25,69.90,2023-01-05\n",
    "                                6,Arquitetura de Microserviços,12,89.90,2023-01-06\n",
    "                                7,Banco de Dados SQL e NoSQL,18,79.90,2023-01-07\n",
    "                                8,Segurança da Informação: Fundamentos,10,109.90,2023-01-08\n",
    "                                9,Cloud Computing com AWS,22,99.90,2023-01-09\n",
    "                                10,DevOps: Integração e Entrega Contínua,8,119.90,2023-01-10\n",
    "                                11,Desenvolvimento Web com HTML e CSS,20,59.90,2023-01-11\n",
    "                                12,JavaScript Avançado: Frameworks e Bibliotecas,15,79.90,2023-01-12\n",
    "                                13,Introdução ao Machine Learning,10,99.90,2023-01-13\n",
    "                                14,Desenvolvimento Mobile com React Native,18,69.90,2023-01-14\n",
    "                                15,Arquitetura de Microserviços,8,89.90,2023-01-15\n",
    "                                16,Banco de Dados SQL e NoSQL,12,79.90,2023-01-16\n",
    "                                17,Segurança da Informação: Fundamentos,5,109.90,2023-01-17\n",
    "                                18,Cloud Computing com AWS,15,99.90,2023-01-18\n",
    "                                19,DevOps: Integração e Entrega Contínua,6,119.90,2023-01-19\n",
    "                                20,Introdução à Programação em Python,45,39.90,2023-01-20\n",
    "                                21,Desenvolvimento Web com HTML e CSS,25,59.90,2023-01-21\n",
    "                                22,JavaScript Avançado: Frameworks e Bibliotecas,18,79.90,2023-01-22\n",
    "                                23,Introdução ao Machine Learning,12,99.90,2023-01-23\n",
    "                                24,Desenvolvimento Mobile com React Native,20,69.90,2023-01-24\n",
    "                                25,Arquitetura de Microserviços,10,89.90,2023-01-25\"\"\""
   ]
  },
  {
   "cell_type": "code",
   "execution_count": 4,
   "metadata": {},
   "outputs": [
    {
     "name": "stdout",
     "output_type": "stream",
     "text": [
      "Arquivo CSV criado com sucesso em carregamento_de_dados\\vendas_cursos_tech.csv.\n"
     ]
    }
   ],
   "source": [
    "\"\"\"\n",
    "Esta célula contém apenas\n",
    "o processamento com a variável\n",
    "string_texto_dados_trilha para transformar\n",
    "em um arquivo CSV a partir do StringIO() e \n",
    "de um Data Frame, por fim convertendo o Data Frame\n",
    "para um arquivo CSV e salvando-o na pasta carregamento_de_dados\n",
    "\"\"\"\n",
    "\n",
    "# Usando StringIO para converter a string em um objeto similar a arquivo\n",
    "texto_dados_trilha_para_csv = StringIO(string_texto_dados_trilha)\n",
    "\n",
    "# Lendo a string em um DataFrame\n",
    "data_frame = pd.read_csv(texto_dados_trilha_para_csv)\n",
    "\n",
    "# Definindo o caminho da pasta onde o arquivo CSV será salvo\n",
    "pasta_destino = 'carregamento_de_dados'\n",
    "\n",
    "# Certifique-se de que a pasta existe, caso contrário, crie-a\n",
    "os.makedirs(pasta_destino, exist_ok=True)\n",
    "\n",
    "# Definindo o caminho completo do arquivo CSV\n",
    "caminho_pasta = os.path.join(pasta_destino, 'vendas_cursos_tech.csv')\n",
    "\n",
    "# Salvando o DataFrame em um arquivo CSV na pasta especificada\n",
    "data_frame.to_csv(caminho_pasta, index=False)\n",
    "\n",
    "print(f\"Arquivo CSV criado com sucesso em {caminho_pasta}.\")"
   ]
  },
  {
   "cell_type": "markdown",
   "metadata": {},
   "source": [
    "### 🔍 Exploração de Dados\n",
    "\n",
    "Após, transformar o texto contendo o conjunto de dados em um arquivo CSV e tendo já um Data Frame salvo na variável data_frame, agora pode ser realizado a Etapa de Exploração de Dados, na qual irei exibir as primeiras linhas e informações básicas do conjunto de dados, como número de linhas, colunas e tipos de dados presentes."
   ]
  },
  {
   "cell_type": "code",
   "execution_count": null,
   "metadata": {},
   "outputs": [],
   "source": [
    "\"\"\"\n",
    "Esta célula irá mostrar\n",
    "as primeiras linhas do \n",
    "Data Frame.\n",
    "\"\"\"\n",
    "# Criando a variável para pegar as 5 primeiras linhas do Data Frame\n",
    "primeiras_linhas = data_frame.head()\n",
    "\n",
    "# Exibindo as primeiras linhas, chamando a variável primeiras_linhas\n",
    "primeiras_linhas"
   ]
  }
 ],
 "metadata": {
  "kernelspec": {
   "display_name": "Python 3",
   "language": "python",
   "name": "python3"
  },
  "language_info": {
   "codemirror_mode": {
    "name": "ipython",
    "version": 3
   },
   "file_extension": ".py",
   "mimetype": "text/x-python",
   "name": "python",
   "nbconvert_exporter": "python",
   "pygments_lexer": "ipython3",
   "version": "3.12.0"
  }
 },
 "nbformat": 4,
 "nbformat_minor": 2
}

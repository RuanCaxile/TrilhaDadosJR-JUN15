{
 "cells": [
  {
   "cell_type": "markdown",
   "metadata": {},
   "source": [
    "# 📶 Trilha de Cientista de Dados Jr. - Codigo Certo Coders\n",
    "\n",
    "Este código foi desenvolvido para realizar a Trilha de Avaliação para a escolha dos Cientistas de Dados Jr. Voluntários\n",
    "do Projeto Codigo Certo Coders. Vale ressaltar que o código abaixo foi escrito em sua totalidade apenas por mim, Ruan Carlos\n",
    "Pontes Caxilé, utilizando como bases para nortear o desenvolvimento do mesmo, materiais de estudo da Cod3r, a Formação em Python \n",
    "da DIO, além de códigos pessoais e consultas realizadas ao ChatGPT e ao Gemini. "
   ]
  },
  {
   "cell_type": "code",
   "execution_count": 1,
   "metadata": {},
   "outputs": [],
   "source": [
    "\"\"\"\n",
    "Esta célula contém apenas as\n",
    "importações das bibliotecas que\n",
    "em algum momento utilizaremos ao\n",
    "longo deste código fonte e da Trilha.\n",
    "\"\"\"\n",
    "import pandas as pd # Importando a biblioteca pandas\n",
    "import matplotlib as plt # Importando a biblioteca matplotlib\n",
    "import os # Importando biblioteca os, para conseguir mexer com pastas e caminhos para arquivos\n",
    "from io import StringIO # Importando apenas o StringIO para converter texto em CSV."
   ]
  }
 ],
 "metadata": {
  "kernelspec": {
   "display_name": "Python 3",
   "language": "python",
   "name": "python3"
  },
  "language_info": {
   "codemirror_mode": {
    "name": "ipython",
    "version": 3
   },
   "file_extension": ".py",
   "mimetype": "text/x-python",
   "name": "python",
   "nbconvert_exporter": "python",
   "pygments_lexer": "ipython3",
   "version": "3.12.0"
  }
 },
 "nbformat": 4,
 "nbformat_minor": 2
}
